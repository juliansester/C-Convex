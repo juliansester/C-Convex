{
  "cells": [
    {
      "cell_type": "markdown",
      "metadata": {
        "id": "eLApbBTCN8BQ"
      },
      "source": [
        "# C-Convex Duality"
      ]
    },
    {
      "cell_type": "code",
      "execution_count": 1,
      "metadata": {
        "colab": {
          "base_uri": "https://localhost:8080/"
        },
        "id": "0PTTOtckN8BR",
        "outputId": "dbb21e59-acd8-4372-f217-b2441b8b407b"
      },
      "outputs": [
        {
          "output_type": "stream",
          "name": "stdout",
          "text": [
            "Necessary Packages imported\n"
          ]
        }
      ],
      "source": [
        "import numpy as np\n",
        "import pandas as pd\n",
        "import matplotlib.pyplot as plt\n",
        "from matplotlib import rc\n",
        "from matplotlib import style\n",
        "style.use('ggplot')\n",
        "import tensorflow as tf\n",
        "import tensorflow_probability as tfp\n",
        "from tensorflow import keras\n",
        "from tensorflow.keras import layers\n",
        "\n",
        "\n",
        "print(\"Necessary Packages imported\")"
      ]
    },
    {
      "cell_type": "markdown",
      "metadata": {
        "id": "diyFobe1N8BT"
      },
      "source": [
        "Define the convex envelope by using the convex biconjugate\n",
        "$$\n",
        "f^{**}(x)  = \\sup_{m \\in \\mathbb{R}} \\left\\{ m \\cdot x-\\sup_{y \\in \\mathbb{R}} \\left\\{ y \\cdot m -f(y)\\right\\} \\right\\}\n",
        "$$\n"
      ]
    },
    {
      "cell_type": "markdown",
      "metadata": {
        "id": "MjeFXx6IN8BU"
      },
      "source": [
        "Note that the implementation of the convex envelope is batchwise to allow a more efficient computation"
      ]
    },
    {
      "cell_type": "code",
      "execution_count": 2,
      "metadata": {
        "id": "06YSYKGCN8BV"
      },
      "outputs": [],
      "source": [
        "def convex_biconjugate(f, x_vals, min_range=-1,max_range = 1, number_of_steps = 100,batch1 = False,batch2 = False):\n",
        "    \n",
        "    # Range of possible slopes\n",
        "    m_vals = np.linspace(min_range,max_range,number_of_steps)\n",
        "    \n",
        "    if batch1: # Computation on a batch of S_1 - values\n",
        "        def f_star(y):\n",
        "            \"\"\"\n",
        "            The conjugate of f.\n",
        "            \"\"\"\n",
        "            return tf.reduce_max(tf.expand_dims(y*x_vals,0) -tf.expand_dims(f(x_vals),2),1)   \n",
        "\n",
        "        def f_bistar(x):\n",
        "            \"\"\"\n",
        "            The conjugate of f.\n",
        "            \"\"\"\n",
        "            return tf.reduce_max(tf.expand_dims(m_vals*x,0) - tf.expand_dims(f_star(m_vals),1),2) \n",
        "        return f_bistar  \n",
        "    \n",
        "    elif batch2: # Computation on a batch of S_1 and x_2 values\n",
        "        def f_star(y):\n",
        "            \"\"\"\n",
        "            The conjugate of f.\n",
        "            \"\"\"\n",
        "            return tf.reduce_max(tf.expand_dims(tf.expand_dims(y*x_vals,0),0)-tf.expand_dims(f(x_vals),3),2) \n",
        "\n",
        "        def f_bistar(x):\n",
        "            \"\"\"\n",
        "            The conjugate of f.\n",
        "            \"\"\"\n",
        "            return tf.reduce_max(tf.expand_dims(m_vals*x,0) - f_star(m_vals),2) \n",
        "        return f_bistar      \n",
        "    # And if the computation is not on a batch of S1 values:\n",
        "    else:\n",
        "        def f_star(y):\n",
        "            \"\"\"\n",
        "            The conjugate of f.\n",
        "            \"\"\"\n",
        "            return tf.reduce_max(y*x_vals-f(x_vals),0) #m_vals*x_vals: (x_vals_dim,M_Vals_dim)   f(x_vals): (x_vals_dim,1)\n",
        "\n",
        "\n",
        "        def f_bistar(x):\n",
        "            \"\"\"\n",
        "            The conjugate of fstar.\n",
        "            \"\"\"\n",
        "            return tf.reduce_max(m_vals*x - f_star(m_vals),1) # (B,M_Vals_dim) - (1,M_Vals_dim)\n",
        "        return f_bistar"
      ]
    },
    {
      "cell_type": "markdown",
      "metadata": {
        "id": "Tx6PnxfNCdAU"
      },
      "source": [
        "# Example: sin(x)"
      ]
    },
    {
      "cell_type": "markdown",
      "metadata": {
        "id": "ZtbmYikKCdAV"
      },
      "source": [
        "If computed on a small range of x values"
      ]
    },
    {
      "cell_type": "code",
      "execution_count": 3,
      "metadata": {
        "colab": {
          "base_uri": "https://localhost:8080/",
          "height": 430
        },
        "id": "FlCL0mk5CdAW",
        "outputId": "cd888759-27a1-4f34-ff89-a5eaf5391f91"
      },
      "outputs": [
        {
          "output_type": "display_data",
          "data": {
            "text/plain": [
              "<Figure size 640x480 with 1 Axes>"
            ],
            "image/png": "[encoded data removed]"
          },
          "metadata": {}
        }
      ],
      "source": [
        "min_val,max_val = -6,6\n",
        "n_steps = 100\n",
        "\n",
        "x_vals = tf.reshape(tf.linspace(min_val,max_val,n_steps),(n_steps,1))\n",
        "plt.plot(x_vals,tf.math.sin(x_vals),label = \"f(x)=sin(x)\")\n",
        "plt.plot(x_vals,convex_biconjugate(tf.math.sin,x_vals, number_of_steps = 1000)(x_vals),label = \"f**(x)\")\n",
        "plt.legend()\n",
        "plt.show()"
      ]
    },
    {
      "cell_type": "markdown",
      "metadata": {
        "id": "hUJOXwWXCdAt"
      },
      "source": [
        "If computed on a larger range of x values"
      ]
    },
    {
      "cell_type": "code",
      "execution_count": 4,
      "metadata": {
        "colab": {
          "base_uri": "https://localhost:8080/",
          "height": 430
        },
        "id": "nHI_aIeBCdAv",
        "outputId": "2397a496-c4e5-4384-d704-f324b4d59cd7"
      },
      "outputs": [
        {
          "output_type": "display_data",
          "data": {
            "text/plain": [
              "<Figure size 640x480 with 1 Axes>"
            ],
            "image/png": "[encoded data removed]"
          },
          "metadata": {}
        }
      ],
      "source": [
        "min_val,max_val = -15,15\n",
        "n_steps = 100\n",
        "\n",
        "x_vals_large = tf.reshape(tf.linspace(min_val,max_val,n_steps),(n_steps,1))\n",
        "plt.plot(x_vals,tf.math.sin(x_vals),label = \"f(x)=sin(x)\")\n",
        "plt.plot(x_vals,convex_biconjugate(tf.math.sin,x_vals_large, number_of_steps = 1000)(x_vals),label = \"f**(x)\")\n",
        "plt.legend()\n",
        "plt.show()"
      ]
    },
    {
      "cell_type": "markdown",
      "metadata": {
        "id": "m0cAUtxhN8BV"
      },
      "source": [
        "Define the function for the optimization (for 3 marginals)"
      ]
    },
    {
      "cell_type": "code",
      "execution_count": 5,
      "metadata": {
        "id": "xdtcI5dIN8BW"
      },
      "outputs": [],
      "source": [
        "def MOT(payoff,\n",
        "        marginal1,\n",
        "        marginal2,\n",
        "        marginal3,\n",
        "        xval_distribution,\n",
        "        max_iter=100,\n",
        "        batch_size=32,\n",
        "        depth=2, \n",
        "        nr_neurons=64,\n",
        "        l_r=0.001,\n",
        "        upper_bound=False):\n",
        "    \"\"\"\n",
        "    payoff: 3 dimensional payoff function, ideally a tf. function\n",
        "    marginal1, marginal2, marginal3: Generators of the marginal distirbutions, Shape: (Batchsize,1)\n",
        "    xval_distribution: Generator for the x values on which the convex envelope should be evaluated, Shape: (N,1) for some N\n",
        "    max_iter: Number of Iterations\n",
        "    Batch_size: Batch_size of x_1,x_2,x_3 values\n",
        "    depth: Depth (Number of Hidden Layers) of the neural network\n",
        "    nr_neuronts: Number of neurons in each layer of the neural network\n",
        "    l_r: The learning rate of the Adam optimizer\n",
        "    upper_bound: Whether an Upper Price Bound should be computed\n",
        "    \"\"\"\n",
        "    if upper_bound == True:\n",
        "        Minmax = -1\n",
        "    else:\n",
        "        Minmax = 1\n",
        "\n",
        "    def build_model():        \n",
        "        #t1\n",
        "        x = keras.Input(shape=(1,),name=\"x\")\n",
        "        # Create the NN       \n",
        "        u_2 = layers.Dense(nr_neurons,activation=\"relu\")(x)\n",
        "        u_3 = layers.Dense(nr_neurons,activation=\"relu\")(x)\n",
        "        # Create deep layers\n",
        "        for i in range(depth):\n",
        "            u_2 = layers.Dense(nr_neurons,activation=\"relu\")(u_2)\n",
        "            u_3 = layers.Dense(nr_neurons,activation=\"relu\")(u_3)\n",
        "        # Output Layers\n",
        "        u_2 = layers.Dense(1)(u_2)\n",
        "        u_3 = layers.Dense(1)(u_3)\n",
        "        model = keras.Model(inputs=[x],outputs=[u_2,u_3])\n",
        "        return model\n",
        "\n",
        "    # Loss function\n",
        "    def loss(model,x_1,x_2,x_3):          \n",
        "        # Compute c_3, c_2 and c_1\n",
        "        # Sample Values on which the convex envelope will be evaluated\n",
        "        x_vals1 = tf.sort(tf.concat([next(xval_distribution(batch_size))],0),0)\n",
        "        x_vals2 = tf.sort(tf.concat([next(xval_distribution(batch_size))],0),0)    \n",
        "\n",
        "        def c_3(x,y,z):\n",
        "          costs = Minmax*payoff(tf.expand_dims(x,1),tf.expand_dims(y,0),tf.transpose(tf.expand_dims(z,1)))\n",
        "          u2 = tf.expand_dims(model({\"x\": tf.reshape(y,-1)})[0],0)\n",
        "          u3 = tf.transpose(tf.expand_dims(model({\"x\": tf.reshape(z,-1)})[1],1))\n",
        "          return costs - (u2+u3) # (32,10,20)\n",
        "\n",
        "        def c_2(x,y):\n",
        "          return_val = convex_biconjugate(lambda z: c_3(x,y,z), x_vals2,batch2 = True)(y)\n",
        "          return return_val #(32,10)\n",
        "\n",
        "        c_1 = convex_biconjugate(lambda y : c_2(x_1,y), x_vals1,batch1 = True)(x_1)\n",
        "\n",
        "        u_1 = tf.reshape(tf.linalg.tensor_diag_part(c_1),(batch_size,1))\n",
        "        u_2 = model({\"x\": x_2})[0]\n",
        "        u_3 = model({\"x\": x_3})[1]\n",
        "\n",
        "        to_maximize = u_1+u_2+u_3\n",
        "        l = tf.reduce_mean(-to_maximize)\n",
        "        return l\n",
        "\n",
        "    # Define Gradient    \n",
        "    def grad(model,x_1,x_2,x_3):\n",
        "        with tf.GradientTape() as tape:\n",
        "            loss_value = loss(model,x_1,x_2,x_3)\n",
        "        return loss_value, tape.gradient(loss_value,model.trainable_variables)\n",
        "\n",
        "      # Define an optimizer and initialize the model\n",
        "    optimizer = tf.keras.optimizers.Adam(learning_rate = l_r)\n",
        "    model = build_model()\n",
        "    losses = []\n",
        "\n",
        "    # Training Loop\n",
        "    for epoch in range(int(max_iter)):\n",
        "        x_1 = next(marginal1(batch_size))\n",
        "        x_2 = next(marginal2(batch_size)) \n",
        "        x_3 = next(marginal3(batch_size)) \n",
        "\n",
        "        # Then train the remaining functions\n",
        "        loss_value, grads = grad(model,x_1,x_2,x_3)\n",
        "        optimizer.apply_gradients(zip(grads, model.trainable_variables))\n",
        "        losses.append(-Minmax*loss_value.numpy())\n",
        "\n",
        "        if epoch % 500 == 0 and epoch > 0:\n",
        "                print(\"Iteration:{}, Avg. Loss: {}\".format((epoch),np.mean(losses[-(round(epoch*0.05)):])))\n",
        "\n",
        "    print(\"Iteration result: {}\".format(np.mean(losses[-(round(max_iter*0.05)):])))\n",
        "    return model"
      ]
    },
    {
      "cell_type": "markdown",
      "metadata": {
        "id": "__wQeXYiN8BW"
      },
      "source": [
        "# Testing and Evaluation \n"
      ]
    },
    {
      "cell_type": "markdown",
      "metadata": {
        "id": "9nv3Bf8SN8BW"
      },
      "source": [
        "Define Marginals and Payoff\n",
        "\n",
        "Marginals follow a lognormal distribution, i.e.,\n",
        "\n",
        "$S_i = \\exp(\\sigma \\sqrt{t} \\cdot X - \\sigma^2 \\cdot \\frac{t}{2})$ where $X \\sim \\mathcal{N}(0,1)$\n",
        "\n",
        "with $\\sigma = 0.25$, $t_1 =1$, $t_2 = 2$, $t_3 = 3$.\n",
        "\n",
        "The payoff is:\n",
        "\n",
        "$c(S_1,S_2,S_3) = \\left(S_3-\\frac{1}{2}(S_2+S_1)\\right)^+$.\n",
        "\n",
        "The same Setting was considered in :\n",
        "\n",
        "\n",
        "Eckstein, S. and Kupper, M., 2021. Martingale transport with homogeneous stock movements. Quantitative Finance, 21(2), pp.271-280.\n",
        "\n",
        "\n",
        "Therein the mentioned result is \n",
        "$$\n",
        "\\inf_{Q \\in \\mathcal{M}(\\mu_1,\\mu_2,\\mu_3)} \\mathbb{E}_Q[c] \\approx 0.059.\n",
        "$$\n",
        "\n",
        "$$\n",
        "\\sup_{Q \\in \\mathcal{M}(\\mu_1,\\mu_2,\\mu_3)} \\mathbb{E}_Q[c] \\approx 0.139.\n",
        "$$"
      ]
    },
    {
      "cell_type": "code",
      "execution_count": 6,
      "metadata": {
        "id": "loZt_OeoN8BX"
      },
      "outputs": [],
      "source": [
        "def mu_1(batch_size):\n",
        "  while True:\n",
        "    t = 1\n",
        "    sigma = 0.25\n",
        "    x = tf.random.normal(shape = [int(batch_size),1], dtype=tf.dtypes.float32)\n",
        "    yield tf.math.exp(sigma*np.sqrt(t)*x-(sigma**2)*t*0.5)\n",
        "\n",
        "            \n",
        "def mu_2(batch_size):\n",
        "  while True:\n",
        "    t = 2\n",
        "    sigma = 0.25\n",
        "    x = tf.random.normal(shape = [int(batch_size),1], dtype=tf.dtypes.float32)\n",
        "    yield tf.math.exp(sigma*np.sqrt(t)*x-(sigma**2)*t*0.5) \n",
        "\n",
        "        \n",
        "def mu_3(batch_size):\n",
        "  while True:\n",
        "    t = 3\n",
        "    sigma = 0.25\n",
        "    x = tf.random.normal(shape = [int(batch_size),1], dtype=tf.dtypes.float32)\n",
        "    yield tf.math.exp(sigma*np.sqrt(t)*x-(sigma**2)*t*0.5)\n",
        "\n",
        "def xval_distribution(batch_size):\n",
        "  while True:\n",
        "    a = tf.random.uniform(shape = [1],minval = -0.2, maxval = 0)\n",
        "    b = tf.random.uniform(shape = [1],minval = 2.4, maxval = 2.6)\n",
        "    x_vals = tf.linspace(a,b,200)\n",
        "    yield tf.reshape(x_vals,(200,1))\n",
        "\n",
        "def payoff(x,y,z):\n",
        "    return tf.nn.relu(z-0.5*(x+y)) \n"
      ]
    },
    {
      "cell_type": "markdown",
      "source": [
        "## Computation of the Lower Bound\n",
        "\n",
        "\n"
      ],
      "metadata": {
        "id": "H5GE1w8kkXn9"
      }
    },
    {
      "cell_type": "code",
      "execution_count": 7,
      "metadata": {
        "colab": {
          "base_uri": "https://localhost:8080/"
        },
        "id": "4Orhm5NkN8BY",
        "outputId": "2b5b1d55-cc72-44d7-aa69-b5da092296f3"
      },
      "outputs": [
        {
          "output_type": "stream",
          "name": "stderr",
          "text": [
            "WARNING:tensorflow:5 out of the last 5 calls to <function _BaseOptimizer._update_step_xla at 0x7f0d500d64d0> triggered tf.function retracing. Tracing is expensive and the excessive number of tracings could be due to (1) creating @tf.function repeatedly in a loop, (2) passing tensors with different shapes, (3) passing Python objects instead of tensors. For (1), please define your @tf.function outside of the loop. For (2), @tf.function has reduce_retracing=True option that can avoid unnecessary retracing. For (3), please refer to https://www.tensorflow.org/guide/function#controlling_retracing and https://www.tensorflow.org/api_docs/python/tf/function for  more details.\n",
            "WARNING:tensorflow:6 out of the last 6 calls to <function _BaseOptimizer._update_step_xla at 0x7f0d500d64d0> triggered tf.function retracing. Tracing is expensive and the excessive number of tracings could be due to (1) creating @tf.function repeatedly in a loop, (2) passing tensors with different shapes, (3) passing Python objects instead of tensors. For (1), please define your @tf.function outside of the loop. For (2), @tf.function has reduce_retracing=True option that can avoid unnecessary retracing. For (3), please refer to https://www.tensorflow.org/guide/function#controlling_retracing and https://www.tensorflow.org/api_docs/python/tf/function for  more details.\n"
          ]
        },
        {
          "output_type": "stream",
          "name": "stdout",
          "text": [
            "Iteration:500, Avg. Loss: 0.0382650700956583\n",
            "Iteration:1000, Avg. Loss: 0.04304639869369566\n",
            "Iteration:1500, Avg. Loss: 0.048535594635953506\n",
            "Iteration:2000, Avg. Loss: 0.045816501677036284\n",
            "Iteration:2500, Avg. Loss: 0.052261941954493525\n",
            "Iteration:3000, Avg. Loss: 0.052849948595588406\n",
            "Iteration:3500, Avg. Loss: 0.052981802632233926\n",
            "Iteration:4000, Avg. Loss: 0.054204497423488644\n",
            "Iteration:4500, Avg. Loss: 0.05177087180730369\n",
            "Iteration:5000, Avg. Loss: 0.0514916966650635\n",
            "Iteration:5500, Avg. Loss: 0.05030476534400474\n",
            "Iteration:6000, Avg. Loss: 0.05166676968258495\n",
            "Iteration:6500, Avg. Loss: 0.05407229070480053\n",
            "Iteration:7000, Avg. Loss: 0.0526431914206062\n",
            "Iteration:7500, Avg. Loss: 0.054853427216410636\n",
            "Iteration:8000, Avg. Loss: 0.05426660091732629\n",
            "Iteration:8500, Avg. Loss: 0.0547983434686766\n",
            "Iteration:9000, Avg. Loss: 0.054460848283229606\n",
            "Iteration:9500, Avg. Loss: 0.05248059670293802\n",
            "Iteration result: 0.05302773337438703\n"
          ]
        }
      ],
      "source": [
        "batch_size = 32\n",
        "\n",
        "# Compute the optimal hedge\n",
        "u = MOT(payoff,\n",
        "        mu_1,\n",
        "        mu_2,\n",
        "        mu_3,\n",
        "        xval_distribution,\n",
        "        max_iter =10000,\n",
        "        batch_size =batch_size,\n",
        "        depth = 4,\n",
        "        nr_neurons = 256,\n",
        "        l_r=0.0001,\n",
        "        upper_bound = False)"
      ]
    },
    {
      "cell_type": "markdown",
      "source": [
        "## Computation of the Upper Bound\n",
        "\n"
      ],
      "metadata": {
        "id": "VvWLlpLOkolK"
      }
    },
    {
      "cell_type": "code",
      "source": [
        "batch_size = 32\n",
        "\n",
        "# Compute the optimal hedge\n",
        "u = MOT(payoff,\n",
        "        mu_1,\n",
        "        mu_2,\n",
        "        mu_3,\n",
        "        xval_distribution,\n",
        "        max_iter =10000,\n",
        "        batch_size =batch_size,\n",
        "        depth = 4,\n",
        "        nr_neurons = 256,\n",
        "        l_r=0.0001,\n",
        "        upper_bound = True)"
      ],
      "metadata": {
        "colab": {
          "base_uri": "https://localhost:8080/"
        },
        "id": "vnWAsEyhkrxq",
        "outputId": "b9fb90f3-4259-4994-8e22-b126142788a0"
      },
      "execution_count": 8,
      "outputs": [
        {
          "output_type": "stream",
          "name": "stdout",
          "text": [
            "Iteration:500, Avg. Loss: 0.15698029831051827\n",
            "Iteration:1000, Avg. Loss: 0.14292609423398972\n",
            "Iteration:1500, Avg. Loss: 0.16449941356976827\n",
            "Iteration:2000, Avg. Loss: 0.14746960239484908\n",
            "Iteration:2500, Avg. Loss: 0.14548938837647438\n",
            "Iteration:3000, Avg. Loss: 0.15252697450419267\n",
            "Iteration:3500, Avg. Loss: 0.1469466488276209\n",
            "Iteration:4000, Avg. Loss: 0.14532621976919471\n",
            "Iteration:4500, Avg. Loss: 0.1405782565722863\n",
            "Iteration:5000, Avg. Loss: 0.14854188088327647\n",
            "Iteration:5500, Avg. Loss: 0.1511070150441744\n",
            "Iteration:6000, Avg. Loss: 0.1361330166645348\n",
            "Iteration:6500, Avg. Loss: 0.14543253489125232\n",
            "Iteration:7000, Avg. Loss: 0.14742168746356454\n",
            "Iteration:7500, Avg. Loss: 0.14161323929329714\n",
            "Iteration:8000, Avg. Loss: 0.1373368078796193\n",
            "Iteration:8500, Avg. Loss: 0.14470747574725573\n",
            "Iteration:9000, Avg. Loss: 0.13773347503195207\n",
            "Iteration:9500, Avg. Loss: 0.13987374276314912\n",
            "Iteration result: 0.1423664629124105\n"
          ]
        }
      ]
    }
  ],
  "metadata": {
    "accelerator": "GPU",
    "colab": {
      "machine_shape": "hm",
      "provenance": [],
      "gpuType": "A100"
    },
    "gpuClass": "standard",
    "kernelspec": {
      "display_name": "Python 3 (ipykernel)",
      "language": "python",
      "name": "python3"
    },
    "language_info": {
      "codemirror_mode": {
        "name": "ipython",
        "version": 3
      },
      "file_extension": ".py",
      "mimetype": "text/x-python",
      "name": "python",
      "nbconvert_exporter": "python",
      "pygments_lexer": "ipython3",
      "version": "3.10.8"
    }
  },
  "nbformat": 4,
  "nbformat_minor": 0
}